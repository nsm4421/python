{
 "cells": [
  {
   "cell_type": "markdown",
   "metadata": {},
   "source": [
    "Load modules"
   ]
  },
  {
   "cell_type": "code",
   "execution_count": 1,
   "metadata": {},
   "outputs": [],
   "source": [
    "import tensorflow as tf\n",
    "from tensorflow.keras import layers\n",
    "import numpy as np\n",
    "from tqdm import tqdm\n",
    "import matplotlib.pyplot as plt"
   ]
  },
  {
   "cell_type": "markdown",
   "metadata": {},
   "source": [
    "Hyperparameters"
   ]
  },
  {
   "cell_type": "code",
   "execution_count": 2,
   "metadata": {},
   "outputs": [],
   "source": [
    "n_epoch = 500\n",
    "batch_size = 32\n",
    "lr = 1e-3"
   ]
  },
  {
   "cell_type": "markdown",
   "metadata": {},
   "source": [
    "Dataset"
   ]
  },
  {
   "cell_type": "code",
   "execution_count": 3,
   "metadata": {},
   "outputs": [],
   "source": [
    "n_point = 100\n",
    "n_center = 10\n",
    "pts, labels = [], [] \n",
    "center_pts = np.random.uniform(-12, 12, (n_center, 2))\n",
    "\n",
    "for label, center_pt in enumerate(center_pts):\n",
    "    for _ in range(n_point):\n",
    "        pts.append(center_pt + np.random.randn(*center_pt.shape))\n",
    "        labels.append(label)\n",
    "pts = np.stack(pts, axis = 0).astype(np.float32)\n",
    "labels = np.stack(labels,axis = 0)"
   ]
  },
  {
   "cell_type": "markdown",
   "metadata": {},
   "source": [
    "Preprocessing"
   ]
  },
  {
   "cell_type": "code",
   "execution_count": 4,
   "metadata": {},
   "outputs": [],
   "source": [
    "train_ds = tf.data.Dataset.from_tensor_slices((pts, labels)).shuffle(1000).batch(batch_size)"
   ]
  },
  {
   "cell_type": "markdown",
   "metadata": {},
   "source": [
    "Network"
   ]
  },
  {
   "cell_type": "code",
   "execution_count": 5,
   "metadata": {},
   "outputs": [],
   "source": [
    "class DNN(tf.keras.Model):\n",
    "    def __init__(self, n_units, activation = 'relu'):\n",
    "        super(DNN, self).__init__()\n",
    "        #---- Arguemnt ----#\n",
    "        self.n_units = n_units\n",
    "        self.L = len(self.n_units)\n",
    "        self.activation = activation\n",
    "        self.layer_lst = []\n",
    "        #---- Dense Layer ----#\n",
    "        for i in range(self.L):\n",
    "            if i<self.L-2:\n",
    "                in_dim, out_dim = self.n_units[i], self.n_units[i+1]\n",
    "                act = self.activation\n",
    "            elif i==self.L-2:\n",
    "                in_dim, out_dim = self.n_units[i], self.n_units[i+1]\n",
    "                act = 'softmax'\n",
    "            else:\n",
    "                break        \n",
    "            layer = layers.Dense(out_dim,\n",
    "                                 input_dim = in_dim,\n",
    "                                 activation = act) \n",
    "            self.layer_lst.append(layer)\n",
    "        \n",
    "    def call(self,x, training = None, mask = None):\n",
    "        for layer in self.layer_lst:\n",
    "            x = layer(x)\n",
    "        return x\n",
    "\n",
    "model = DNN(n_units = [2, 512, n_center], activation = 'relu')"
   ]
  },
  {
   "cell_type": "markdown",
   "metadata": {},
   "source": [
    "Loss function &  Optimizer  &  Metrics"
   ]
  },
  {
   "cell_type": "code",
   "execution_count": 6,
   "metadata": {},
   "outputs": [],
   "source": [
    "criterion = tf.keras.losses.SparseCategoricalCrossentropy()\n",
    "optimizer = tf.keras.optimizers.Adam(lr = lr)\n",
    "train_metric = tf.keras.metrics.SparseCategoricalAccuracy(name = 'Training Loss')\n",
    "train_loss = tf.keras.metrics.Mean(name = 'Training Accuracy')"
   ]
  },
  {
   "cell_type": "markdown",
   "metadata": {},
   "source": [
    "Training Function"
   ]
  },
  {
   "cell_type": "code",
   "execution_count": 7,
   "metadata": {},
   "outputs": [],
   "source": [
    "@tf.function\n",
    "def train(model, inputs, outputs, criterion,\n",
    "          optimizer, train_loss, train_metric):\n",
    "    with tf.GradientTape() as tape:\n",
    "        predictions = model(inputs)\n",
    "        loss = criterion(outputs, predictions)\n",
    "    gradients = tape.gradient(loss, model.trainable_variables)\n",
    "    optimizer.apply_gradients(zip(gradients, model.trainable_variables))\n",
    "    train_loss(loss)\n",
    "    train_metric(outputs, predictions)"
   ]
  },
  {
   "cell_type": "markdown",
   "metadata": {},
   "source": [
    "Training Loop"
   ]
  },
  {
   "cell_type": "code",
   "execution_count": 8,
   "metadata": {},
   "outputs": [
    {
     "name": "stderr",
     "output_type": "stream",
     "text": [
      "100%|████████████████████████████████████████████████████████████████████████████████| 500/500 [00:16<00:00, 29.84it/s]\n"
     ]
    }
   ],
   "source": [
    "t_loss, t_metric = [], []\n",
    "for epoch in tqdm(range(n_epoch)):\n",
    "    loss_lst, metric_lst = [], []\n",
    "    for batch in train_ds:\n",
    "        pts, labels = batch\n",
    "        train(model = model, inputs = pts,\n",
    "                outputs = labels, criterion = criterion,\n",
    "                optimizer = optimizer, train_loss = train_loss,\n",
    "                train_metric = train_metric)\n",
    "        t_loss.append(train_loss.result().numpy())\n",
    "        t_metric.append(train_metric.result().numpy())"
   ]
  },
  {
   "cell_type": "markdown",
   "metadata": {},
   "source": [
    "Evaluation"
   ]
  },
  {
   "cell_type": "code",
   "execution_count": 9,
   "metadata": {},
   "outputs": [
    {
     "data": {
      "image/png": "[encoded data removed]",
      "text/plain": [
       "<Figure size 720x360 with 2 Axes>"
      ]
     },
     "metadata": {
      "needs_background": "light"
     },
     "output_type": "display_data"
    }
   ],
   "source": [
    "fig, ax = plt.subplots(1, 2, figsize = (10, 5))\n",
    "ax[0].plot(t_loss)\n",
    "ax[0].set_title('Training Loss')\n",
    "ax[1].plot(t_metric)\n",
    "ax[1].set_title('Training Accuracy')\n",
    "plt.tight_layout()\n",
    "plt.show()"
   ]
  },
  {
   "cell_type": "code",
   "execution_count": null,
   "metadata": {},
   "outputs": [],
   "source": []
  },
  {
   "cell_type": "code",
   "execution_count": null,
   "metadata": {},
   "outputs": [],
   "source": []
  },
  {
   "cell_type": "code",
   "execution_count": null,
   "metadata": {},
   "outputs": [],
   "source": []
  },
  {
   "cell_type": "code",
   "execution_count": null,
   "metadata": {},
   "outputs": [],
   "source": []
  },
  {
   "cell_type": "code",
   "execution_count": null,
   "metadata": {},
   "outputs": [],
   "source": []
  },
  {
   "cell_type": "code",
   "execution_count": null,
   "metadata": {},
   "outputs": [],
   "source": []
  }
 ],
 "metadata": {
  "kernelspec": {
   "display_name": "Python 3",
   "language": "python",
   "name": "python3"
  },
  "language_info": {
   "codemirror_mode": {
    "name": "ipython",
    "version": 3
   },
   "file_extension": ".py",
   "mimetype": "text/x-python",
   "name": "python",
   "nbconvert_exporter": "python",
   "pygments_lexer": "ipython3",
   "version": "3.8.3"
  }
 },
 "nbformat": 4,
 "nbformat_minor": 4
}
