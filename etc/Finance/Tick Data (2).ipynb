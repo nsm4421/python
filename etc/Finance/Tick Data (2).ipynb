{
 "metadata": {
  "language_info": {
   "codemirror_mode": {
    "name": "ipython",
    "version": 3
   },
   "file_extension": ".py",
   "mimetype": "text/x-python",
   "name": "python",
   "nbconvert_exporter": "python",
   "pygments_lexer": "ipython3",
   "version": "3.9.5"
  },
  "orig_nbformat": 4,
  "kernelspec": {
   "name": "python3",
   "display_name": "Python 3.9.5 64-bit"
  },
  "interpreter": {
   "hash": "51902d065fd6e660be0379b1baf3c7c6b11efc2d50f5e5f8e7ba9613741f3e85"
  }
 },
 "nbformat": 4,
 "nbformat_minor": 2,
 "cells": [
  {
   "source": [
    "# Tick Data 다루기"
   ],
   "cell_type": "markdown",
   "metadata": {}
  },
  {
   "cell_type": "code",
   "execution_count": null,
   "metadata": {},
   "outputs": [],
   "source": [
    "import numpy as np\n",
    "import pandas as pd\n",
    "import matplotlib.pyplot as plt\n",
    "import pyupbit"
   ]
  },
  {
   "source": [
    "## 데이터\n",
    "\n",
    "### Bitcoin 가격 불러오기\n",
    "\n",
    "    pyupbit.get_ohlcv(ticker, interval, count)"
   ],
   "cell_type": "markdown",
   "metadata": {}
  },
  {
   "cell_type": "code",
   "execution_count": null,
   "metadata": {},
   "outputs": [],
   "source": [
    "ticker = 'KRW-BTC'\n",
    "df = pyupbit.get_ohlcv(ticker, 'minute1', count = 1000)\n",
    "df.head()"
   ]
  },
  {
   "cell_type": "code",
   "execution_count": null,
   "metadata": {},
   "outputs": [],
   "source": [
    "df.close.plot()\n",
    "plt.title(ticker, loc = 'right', size = 20)\n",
    "plt.show()\n"
   ]
  },
  {
   "source": [
    " Tick data\n",
    "\n",
    "> $(p_t, v_t)$"
   ],
   "cell_type": "markdown",
   "metadata": {}
  },
  {
   "cell_type": "code",
   "execution_count": null,
   "metadata": {},
   "outputs": [],
   "source": [
    "tick_seq = df.loc[:,['close','volume']]\n",
    "tick_seq.columns = ['price', 'volume']\n",
    "tick_seq.head()"
   ]
  },
  {
   "source": [
    "## Remark\n",
    "\n",
    "    resample & ohlc"
   ],
   "cell_type": "markdown",
   "metadata": {}
  },
  {
   "cell_type": "code",
   "execution_count": null,
   "metadata": {},
   "outputs": [],
   "source": [
    "# resample : 1분봉  --->  5분봉 \n",
    "resampled = tick_seq.resample('5min')\n",
    "resampled.sum()"
   ]
  },
  {
   "cell_type": "code",
   "execution_count": null,
   "metadata": {},
   "outputs": [],
   "source": [
    "resampled['price'].ohlc()"
   ]
  },
  {
   "source": [
    "## Time Bar\n",
    "\n",
    "Tick 데이터 $(p_t, v_t)$를 받아서 rule에 따라 resampling해서\n",
    "\n",
    "ohlcv (open, high, low, close, volume)을 얻음\n",
    "\n",
    "Ex) timebar(tick데이터, rule = '1m')\n",
    "\n",
    "    초마다 (가격, 거래량) 정보를 얻음\n",
    "\n",
    "    이를 1분마다 resampling함\n",
    "\n",
    "    그럼 분당 (시작가, 최고가, 최저가, 종가, 거래량)을 return"
   ],
   "cell_type": "markdown",
   "metadata": {}
  },
  {
   "cell_type": "code",
   "execution_count": null,
   "metadata": {},
   "outputs": [],
   "source": [
    "def timebar(tick_data : pd.DataFrame, rule : str = '1M') -> pd.DataFrame:\n",
    "    \"\"\"\n",
    "    Input\n",
    "    - tick_seq : 가격과 거래량 컬럼을 가진 데이터 프레임\n",
    "    - rule : 샘플링 주기\n",
    "    Ouput\n",
    "    - ohlcvv (open, high, low, volume, value)\n",
    "    \"\"\"   \n",
    "\n",
    "    tick_data.columns = ['price', 'volume']\n",
    "\n",
    "    # resampling\n",
    "    resampled = tick_data.resample(rule)\n",
    "\n",
    "    # ohlcv\n",
    "    result = resampled['price'].ohlc()  \n",
    "    result['volume'] = resampled['volume'].sum()\n",
    "\n",
    "    # Handling nan\n",
    "    result['close'] = result['close'].fillna(method = 'ffill')\n",
    "    result['open'] = result['open'].fillna(result['close'])\n",
    "    result['high'] = result['high'].fillna(result['close'])\n",
    "    result['low'] = result['low'].fillna(result['close'])\n",
    "\n",
    "    return result"
   ]
  },
  {
   "cell_type": "code",
   "execution_count": null,
   "metadata": {},
   "outputs": [],
   "source": [
    "df_timebar = timebar(tick_seq, '150S')\n",
    "df_timebar.head()"
   ]
  },
  {
   "cell_type": "code",
   "execution_count": null,
   "metadata": {},
   "outputs": [],
   "source": [
    "plt.plot(df.close, label = '1m')\n",
    "plt.plot(df_timebar.close, label = '150S')\n",
    "plt.title('Original(1m) vs Time bar(150S)')\n",
    "plt.legend(loc = 'best')\n",
    "plt.xticks(rotation = '45', size = 10)\n",
    "plt.show()"
   ]
  },
  {
   "source": [
    "## Tick bar\n",
    "\n",
    "$t$ 가 일정범위를 넘어갈 때 마다 tick data $(p_t, v_t)$를 sampling\n",
    "\n",
    "Ex) T = 3\n",
    "\n",
    "틱 데이터 {$(p_t, v_t)$} $_{t = 0, 3, 5, 8, 10, 13, 14 ...}$ 수집 시\n",
    "\n",
    "$(p_0, v_0), (p_8, v_8), (p_{14}, v_{14}), ....$ 로 resampling 함"
   ],
   "cell_type": "markdown",
   "metadata": {}
  },
  {
   "cell_type": "code",
   "execution_count": null,
   "metadata": {},
   "outputs": [],
   "source": [
    "def tickbar(tick_data : pd.DataFrame, window_size :int = 10) -> pd.DataFrame:\n",
    "    \"\"\"\n",
    "    Input\n",
    "    - tick_seq : 가격과 거래량 컬럼을 가진 데이터 프레임\n",
    "    - window size : 몇 틱마다 데이터를 수집할 것인지\n",
    "    Ouput\n",
    "    - ohlcvv (open, high, low, volume, value)\n",
    "    \"\"\"\n",
    "\n",
    "    tick_data = tick_data.reset_index()\n",
    "\n",
    "    # 각 틱마다 window 번호 부여\n",
    "    tick_data['window_num'] = np.arange(len(tick_data))//window_size\n",
    "    \n",
    "    # ohlcv\n",
    "    grouped = tick_data.groupby('window_num')\n",
    "    result = grouped['price'].ohlc()\n",
    "    result['volume'] = grouped['volume'].sum()\n",
    "\n",
    "    result = result.set_index(grouped['index'].first())        \n",
    "    return result"
   ]
  },
  {
   "cell_type": "code",
   "execution_count": null,
   "metadata": {},
   "outputs": [],
   "source": [
    "df_tickbar = tickbar(tick_seq, 30)\n",
    "df_tickbar.head()"
   ]
  },
  {
   "cell_type": "code",
   "execution_count": null,
   "metadata": {},
   "outputs": [],
   "source": [
    "plt.plot(df.close, label = '1m')\n",
    "plt.plot(df_timebar.close, label = '150S')\n",
    "plt.plot(df_tickbar.close, label = '30 tick')\n",
    "plt.title('Original(1m) vs Time bar(150S) vs Tick bar(120 tick)', size = 10)\n",
    "plt.legend(loc = 'best')\n",
    "plt.xticks(rotation = '45', size = 10)\n",
    "plt.show()"
   ]
  },
  {
   "source": [
    "## Volume bar\n",
    "\n",
    "(이전 sampling 이후로) $v_t$ 누적량이 일정범위를 넘어갈 때 마다 sampling"
   ],
   "cell_type": "markdown",
   "metadata": {}
  },
  {
   "cell_type": "code",
   "execution_count": null,
   "metadata": {},
   "outputs": [],
   "source": [
    "def volumebar(tick_data : pd.DataFrame, unit_volume : int) -> pd.DataFrame:\n",
    "    \n",
    "    tick_data = tick_data.reset_index()\n",
    "\n",
    "    # window_num로 groupping\n",
    "    tick_data['window_num'] = tick_data['volume'].cumsum()//unit_volume\n",
    "    grouped = tick_data.groupby('window_num')\n",
    "    \n",
    "    # ohlcv\n",
    "    result = grouped['price'].ohlc()\n",
    "    result['volume'] = grouped['volume'].sum()\n",
    "\n",
    "    result = result.set_index(grouped['index'].first())\n",
    "    return result"
   ]
  },
  {
   "cell_type": "code",
   "execution_count": null,
   "metadata": {},
   "outputs": [],
   "source": [
    "df_volumebar = volumebar(tick_seq, 80)\n",
    "df_volumebar.head()"
   ]
  },
  {
   "cell_type": "code",
   "execution_count": null,
   "metadata": {},
   "outputs": [],
   "source": [
    "plt.plot(df.close, label = '1m')\n",
    "plt.plot(df_timebar.close, label = '150S')\n",
    "plt.plot(df_tickbar.close, label = '30 tick')\n",
    "plt.plot(df_volumebar.close, label = '80 volume')\n",
    "plt.legend(loc = 'best')\n",
    "plt.xticks(rotation = '45', size = 10)\n",
    "plt.show()"
   ]
  },
  {
   "source": [
    "## Dollor bar\n",
    "\n",
    "(이전 sampling 이후로) $p_t \\times v_t$ 누적량이 일정범위를 넘어갈 때 마다 sampling"
   ],
   "cell_type": "markdown",
   "metadata": {}
  },
  {
   "cell_type": "code",
   "execution_count": null,
   "metadata": {},
   "outputs": [],
   "source": [
    "def dollarbar(tick_data : pd.DataFrame, unit_dollar : int) -> pd.DataFrame:\n",
    "    tick_data = tick_data.reset_index()\n",
    "\n",
    "    # value = 가격 x 거래량\n",
    "    tick_data['value'] = tick_data['price']*tick_data['volume']\n",
    " \n",
    "    # window_num로 groupping\n",
    "    tick_data['window_num'] = tick_data['value'].cumsum()//unit_dollar\n",
    "    grouped = tick_data.groupby('window_num')\n",
    "    \n",
    "    # ohlcv\n",
    "    result = grouped['price'].ohlc()\n",
    "    result['volume'] = grouped['volume'].sum()\n",
    "\n",
    "    result = result.set_index(grouped['index'].first())\n",
    "    return result"
   ]
  },
  {
   "cell_type": "code",
   "execution_count": null,
   "metadata": {},
   "outputs": [],
   "source": [
    "df_dollarbar = dollarbar(tick_seq, 10000)\n",
    "df_dollarbar.head()"
   ]
  },
  {
   "cell_type": "code",
   "execution_count": null,
   "metadata": {},
   "outputs": [],
   "source": [
    "plt.plot(df.close, label = '1m')\n",
    "plt.plot(df_timebar.close, label = '150S')\n",
    "plt.plot(df_tickbar.close, label = '30 tick')\n",
    "plt.plot(df_volumebar.close, label = '80 volume')\n",
    "plt.plot(df_dollarbar.close, label = '10000 dollar bar')\n",
    "plt.legend(loc = 'best')\n",
    "plt.title('Tick Data Tutorial')\n",
    "plt.xticks(rotation = '45', size = 10)\n",
    "plt.show()"
   ]
  },
  {
   "cell_type": "code",
   "execution_count": null,
   "metadata": {},
   "outputs": [],
   "source": []
  }
 ]
}