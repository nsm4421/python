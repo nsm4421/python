{
 "cells": [
  {
   "cell_type": "code",
   "execution_count": 1,
   "metadata": {},
   "outputs": [],
   "source": [
    "import pandas as pd\n",
    "import numpy as np\n",
    "from scipy.interpolate import interp1d"
   ]
  },
  {
   "cell_type": "markdown",
   "metadata": {},
   "source": [
    "입력값"
   ]
  },
  {
   "cell_type": "code",
   "execution_count": 2,
   "metadata": {},
   "outputs": [],
   "source": [
    "x = 40 # 가입나이\n",
    "m = 20 # 납입기간\n",
    "n = 60 # 보험기간\n",
    "w = 110 # 한계연령\n",
    "ctr = 1 # 계약종별 코드\n",
    "m_prime = 12 # 납입주기\n",
    "\n",
    "ir = 0.025 # 이자율\n",
    "v = 1/(1+ir)\n",
    "\n",
    "l0 = 100000\n",
    "l0_prime = 100000\n",
    "K = 100000 # 가입금액"
   ]
  },
  {
   "cell_type": "markdown",
   "metadata": {},
   "source": [
    "위험율"
   ]
  },
  {
   "cell_type": "code",
   "execution_count": 3,
   "metadata": {},
   "outputs": [],
   "source": [
    "risk = pd.read_csv('전립선암.csv', header = None)\n",
    "# risk.head()"
   ]
  },
  {
   "cell_type": "code",
   "execution_count": 4,
   "metadata": {},
   "outputs": [],
   "source": [
    "age = risk.iloc[:, 0].values\n",
    "risk_rate = risk.iloc[:, 1].values"
   ]
  },
  {
   "cell_type": "code",
   "execution_count": 5,
   "metadata": {},
   "outputs": [],
   "source": [
    "inter = interp1d(age, risk_rate, kind = 'linear')"
   ]
  },
  {
   "cell_type": "code",
   "execution_count": 6,
   "metadata": {},
   "outputs": [],
   "source": [
    "# 위험율\n",
    "q_x = inter(range(w+1))\n",
    "q_prime_x = inter(range(w+1))"
   ]
  },
  {
   "cell_type": "markdown",
   "metadata": {},
   "source": [
    "기본 세팅"
   ]
  },
  {
   "cell_type": "code",
   "execution_count": 7,
   "metadata": {},
   "outputs": [],
   "source": [
    "df = {}\n",
    "df['x+t'] = range(x, w)\n",
    "df['q_x+t'] = q_x[x:w]\n",
    "df[\"q'_x+t\"] = q_prime_x[x:w]\n",
    "df = pd.DataFrame(df)\n",
    "df.index = df.index.set_names(['t'])\n",
    "# df.head()"
   ]
  },
  {
   "cell_type": "markdown",
   "metadata": {},
   "source": [
    "해지율\n",
    "\n",
    "    1종 : 무해지\n",
    "    2종 : 일반"
   ]
  },
  {
   "cell_type": "code",
   "execution_count": 8,
   "metadata": {},
   "outputs": [
    {
     "data": {
      "text/html": [
       "<div>\n",
       "<style scoped>\n",
       "    .dataframe tbody tr th:only-of-type {\n",
       "        vertical-align: middle;\n",
       "    }\n",
       "\n",
       "    .dataframe tbody tr th {\n",
       "        vertical-align: top;\n",
       "    }\n",
       "\n",
       "    .dataframe thead th {\n",
       "        text-align: right;\n",
       "    }\n",
       "</style>\n",
       "<table border=\"1\" class=\"dataframe\">\n",
       "  <thead>\n",
       "    <tr style=\"text-align: right;\">\n",
       "      <th></th>\n",
       "      <th>x+t</th>\n",
       "      <th>q_x+t</th>\n",
       "      <th>q'_x+t</th>\n",
       "      <th>w_x+t</th>\n",
       "    </tr>\n",
       "    <tr>\n",
       "      <th>t</th>\n",
       "      <th></th>\n",
       "      <th></th>\n",
       "      <th></th>\n",
       "      <th></th>\n",
       "    </tr>\n",
       "  </thead>\n",
       "  <tbody>\n",
       "    <tr>\n",
       "      <th>65</th>\n",
       "      <td>105</td>\n",
       "      <td>0.003448</td>\n",
       "      <td>0.003448</td>\n",
       "      <td>0.0</td>\n",
       "    </tr>\n",
       "    <tr>\n",
       "      <th>66</th>\n",
       "      <td>106</td>\n",
       "      <td>0.003448</td>\n",
       "      <td>0.003448</td>\n",
       "      <td>0.0</td>\n",
       "    </tr>\n",
       "    <tr>\n",
       "      <th>67</th>\n",
       "      <td>107</td>\n",
       "      <td>0.003448</td>\n",
       "      <td>0.003448</td>\n",
       "      <td>0.0</td>\n",
       "    </tr>\n",
       "    <tr>\n",
       "      <th>68</th>\n",
       "      <td>108</td>\n",
       "      <td>0.003448</td>\n",
       "      <td>0.003448</td>\n",
       "      <td>0.0</td>\n",
       "    </tr>\n",
       "    <tr>\n",
       "      <th>69</th>\n",
       "      <td>109</td>\n",
       "      <td>0.003448</td>\n",
       "      <td>0.003448</td>\n",
       "      <td>0.0</td>\n",
       "    </tr>\n",
       "  </tbody>\n",
       "</table>\n",
       "</div>"
      ],
      "text/plain": [
       "    x+t     q_x+t    q'_x+t  w_x+t\n",
       "t                                 \n",
       "65  105  0.003448  0.003448    0.0\n",
       "66  106  0.003448  0.003448    0.0\n",
       "67  107  0.003448  0.003448    0.0\n",
       "68  108  0.003448  0.003448    0.0\n",
       "69  109  0.003448  0.003448    0.0"
      ]
     },
     "execution_count": 8,
     "metadata": {},
     "output_type": "execute_result"
    }
   ],
   "source": [
    "if ctr==1:\n",
    "    df['w_x+t'] = [0.04]*m + [0]*(df.shape[0]-m)\n",
    "else:\n",
    "    df['w_x+t'] = [0]*(df.shape[0])\n",
    "# df.head()"
   ]
  },
  {
   "cell_type": "markdown",
   "metadata": {},
   "source": [
    "$ l_{x+1} = l_x * (1-q_x) * (1-w_x)$\n",
    "\n",
    "$ l_x = l^{'}_x $"
   ]
  },
  {
   "cell_type": "code",
   "execution_count": 9,
   "metadata": {},
   "outputs": [],
   "source": [
    "l_x, l_prime_x = [l0], [l0_prime]\n",
    "\n",
    "for t in range(w-x-1):\n",
    "    l_before, l_prime_before = l_x[t], l_prime_x[t]\n",
    "    l_next = l_before * (1-df['q_x+t'].values[t]) * (1-df['w_x+t'].values[t])\n",
    "    l_prime_next = l_prime_x[t] * (1-df['q_x+t'].values[t]) * (1-df['w_x+t'].values[t]/2)\n",
    "    l_x.append(l_next)\n",
    "    l_prime_x.append(l_prime_next)\n",
    "\n",
    "df['l_x+t'] = l_x\n",
    "df[\"l'_x+t\"] = l_prime_x\n",
    "# df.head()"
   ]
  },
  {
   "cell_type": "markdown",
   "metadata": {},
   "source": [
    "$D_x = l_x * v^x$\n",
    "\n",
    "$C_x = d_x * v^x$\n",
    "\n",
    "$ N_x = D_x + D_{x+1} + D_{x+2} +....$\n",
    "\n",
    "$ M_x = C_x + C_{x+1} + C_{x+2} +....$"
   ]
  },
  {
   "cell_type": "code",
   "execution_count": 10,
   "metadata": {},
   "outputs": [],
   "source": [
    "df['D_x+t'] = df['l_x+t'] * v**df.index.values\n",
    "df['C_x+t'] = df['l_x+t'] * df['q_x+t'] * v**df.index.values\n",
    "df['N_x+t'] = [sum(df['D_x+t'].loc[t:]) for t in range(df.shape[0])]\n",
    "df['M_x+t'] = [sum(df['C_x+t'].loc[t:]) for t in range(df.shape[0])]\n",
    "# df.head()"
   ]
  },
  {
   "cell_type": "markdown",
   "metadata": {},
   "source": [
    "$D^{'}_x = l^{'}_x * v^x$\n",
    "\n",
    "$C^{'}_x = d^{'}_x * v^x$\n",
    "\n",
    "$ N^{'}_x = D^{'}_x + D^{'}_{x+1} + D^{'}_{x+2} +....$\n",
    "\n",
    "$ M^{'}_x = C^{'}_x + C^{'}_{x+1} + C^{'}_{x+2} +....$"
   ]
  },
  {
   "cell_type": "code",
   "execution_count": 12,
   "metadata": {},
   "outputs": [],
   "source": [
    "df[\"D'_x+t\"] = df[\"l'_x+t\"] * v**df.index.values\n",
    "df[\"C'_x+t\"] = df[\"l'_x+t\"] * df[\"q'_x+t\"] * v**df.index.values\n",
    "df[\"N'_x+t\"] = [sum(df[\"D'_x+t\"].loc[t:]) for t in range(df.shape[0])]\n",
    "df[\"M'_x+t\"] = [sum(df[\"C'_x+t\"].loc[t:]) for t in range(df.shape[0])]\n",
    "# df.head()"
   ]
  },
  {
   "attachments": {
    "image-2.png": {
     "image/png": "[encoded data removed]"
    }
   },
   "cell_type": "markdown",
   "metadata": {},
   "source": [
    "![image-2.png](attachment:image-2.png)"
   ]
  },
  {
   "cell_type": "code",
   "execution_count": 13,
   "metadata": {
    "scrolled": true
   },
   "outputs": [
    {
     "name": "stdout",
     "output_type": "stream",
     "text": [
      "순보험료 : 0.00014304188549884152\n",
      "가입금액 곱한 값 : 14\n"
     ]
    }
   ],
   "source": [
    "net_prenium_nominator = df['M_x+t'].values[0] - df['M_x+t'].values[n]\n",
    "net_prenium_denominator = m_prime * ((df[\"N'_x+t\"].values[0] - df[\"N'_x+t\"].values[m]) - \n",
    "                                     (m_prime-1)/(2*m_prime) * (df[\"D'_x+t\"].values[0] - df[\"D'_x+t\"].values[m]))\n",
    "net_prenium = net_prenium_nominator / net_prenium_denominator\n",
    "print(f'순보험료 : {net_prenium}')\n",
    "print(f'가입금액 곱한 값 : {int(K*net_prenium)}')"
   ]
  }
 ],
 "metadata": {
  "kernelspec": {
   "display_name": "Python 3",
   "language": "python",
   "name": "python3"
  },
  "language_info": {
   "codemirror_mode": {
    "name": "ipython",
    "version": 3
   },
   "file_extension": ".py",
   "mimetype": "text/x-python",
   "name": "python",
   "nbconvert_exporter": "python",
   "pygments_lexer": "ipython3",
   "version": "3.8.5"
  }
 },
 "nbformat": 4,
 "nbformat_minor": 4
}
