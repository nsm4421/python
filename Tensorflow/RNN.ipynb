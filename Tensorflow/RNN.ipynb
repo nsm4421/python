{
 "cells": [
  {
   "cell_type": "markdown",
   "metadata": {},
   "source": [
    "Load modules"
   ]
  },
  {
   "cell_type": "code",
   "execution_count": 1,
   "metadata": {},
   "outputs": [],
   "source": [
    "import tensorflow as tf\n",
    "from tensorflow.keras import layers\n",
    "import matplotlib.pyplot as plt\n",
    "import numpy as np\n",
    "import pandas as pd"
   ]
  },
  {
   "cell_type": "markdown",
   "metadata": {},
   "source": [
    "Hyper parameter"
   ]
  },
  {
   "cell_type": "code",
   "execution_count": 2,
   "metadata": {},
   "outputs": [],
   "source": [
    "N_EPOCH = 10\n",
    "NUM_WORD = 10000\n",
    "BATCH_SIZE = 32\n",
    "EMB_DIM = 16\n",
    "LR = 1e-4"
   ]
  },
  {
   "cell_type": "markdown",
   "metadata": {},
   "source": [
    "Load dataset\n",
    "\n",
    "    IMDB dataset"
   ]
  },
  {
   "cell_type": "code",
   "execution_count": 3,
   "metadata": {},
   "outputs": [],
   "source": [
    "imdb = tf.keras.datasets.imdb\n",
    "(x_train, y_train), (x_test, y_test) = imdb.load_data(num_words=NUM_WORD)\n",
    "\n",
    "x_train = tf.keras.preprocessing.sequence.pad_sequences(x_train,\n",
    "                                                       value=0,\n",
    "                                                       padding='pre',\n",
    "                                                       maxlen=32)\n",
    "x_test = tf.keras.preprocessing.sequence.pad_sequences(x_test,\n",
    "                                                      value=0,\n",
    "                                                      padding='pre',\n",
    "                                                      maxlen=32)\n",
    "\n"
   ]
  },
  {
   "cell_type": "markdown",
   "metadata": {},
   "source": [
    "Preprocessing"
   ]
  },
  {
   "cell_type": "code",
   "execution_count": 4,
   "metadata": {},
   "outputs": [],
   "source": [
    "train_ds = tf.data.Dataset.from_tensor_slices((x_train, y_train)).shuffle(len(x_train)).batch(BATCH_SIZE)\n",
    "test_ds = tf.data.Dataset.from_tensor_slices((x_test, y_test)).batch(BATCH_SIZE)"
   ]
  },
  {
   "cell_type": "markdown",
   "metadata": {},
   "source": [
    "model"
   ]
  },
  {
   "cell_type": "code",
   "execution_count": 5,
   "metadata": {},
   "outputs": [],
   "source": [
    "class RNN(tf.keras.Model):\n",
    "    def __init__(self, model_name = 'rnn', emb_dim = EMB_DIM,\n",
    "                 num_word = NUM_WORD, out_dim = 32):\n",
    "        super(RNN, self).__init__()\n",
    "        \n",
    "        #---- Argument ----#\n",
    "        self.model_name = model_name\n",
    "        self.emb_dim = EMB_DIM\n",
    "        self.out_dim = out_dim\n",
    "        self.num_word = num_word\n",
    "        #---- Layers ----#\n",
    "        self.emb = tf.keras.layers.Embedding(self.num_word, self.emb_dim)\n",
    "        self.dense = tf.keras.layers.Dense(2, activation='softmax')\n",
    "        #--- Model 종류 ---#\n",
    "        if self.model_name in ['lstm', 'Lstm', 'LSTM']:\n",
    "            self.rnn = layers.LSTM(self.out_dim)\n",
    "        elif self.model_name in ['gru', 'Gru', 'GRU']:\n",
    "            self.rnn= layers.GRU(self.out_dim)\n",
    "        else:\n",
    "            self.rnn = layers.LSTM(self.out_dim)\n",
    "        \n",
    "    def call(self, x, training=None, mask=None):\n",
    "        x = self.emb(x)\n",
    "        x = self.rnn(x)\n",
    "        return self.dense(x)"
   ]
  },
  {
   "cell_type": "code",
   "execution_count": 6,
   "metadata": {},
   "outputs": [],
   "source": [
    "rnn = RNN()\n",
    "lstm = RNN('lstm')\n",
    "gru = RNN('gru')"
   ]
  },
  {
   "cell_type": "markdown",
   "metadata": {},
   "source": [
    "Compile"
   ]
  },
  {
   "cell_type": "code",
   "execution_count": 7,
   "metadata": {},
   "outputs": [],
   "source": [
    "rnn.compile(optimizer=tf.keras.optimizers.Adam(LR),\n",
    "              loss = tf.keras.losses.SparseCategoricalCrossentropy(),\n",
    "              metrics = ['accuracy'])\n",
    "lstm.compile(optimizer=tf.keras.optimizers.Adam(LR),\n",
    "              loss = tf.keras.losses.SparseCategoricalCrossentropy(),\n",
    "              metrics = ['accuracy'])\n",
    "gru.compile(optimizer=tf.keras.optimizers.Adam(LR),\n",
    "              loss = tf.keras.losses.SparseCategoricalCrossentropy(),\n",
    "              metrics = ['accuracy'])"
   ]
  },
  {
   "cell_type": "markdown",
   "metadata": {},
   "source": [
    "Training"
   ]
  },
  {
   "cell_type": "code",
   "execution_count": 8,
   "metadata": {},
   "outputs": [
    {
     "name": "stdout",
     "output_type": "stream",
     "text": [
      "Epoch 1/10\n",
      "782/782 [==============================] - 8s 10ms/step - loss: 0.6523 - accuracy: 0.6146 - val_loss: 0.5773 - val_accuracy: 0.7003\n",
      "Epoch 2/10\n",
      "782/782 [==============================] - 8s 10ms/step - loss: 0.5133 - accuracy: 0.7492 - val_loss: 0.5030 - val_accuracy: 0.7542\n",
      "Epoch 3/10\n",
      "782/782 [==============================] - 8s 10ms/step - loss: 0.4326 - accuracy: 0.8030 - val_loss: 0.4850 - val_accuracy: 0.7658\n",
      "Epoch 4/10\n",
      "782/782 [==============================] - 8s 11ms/step - loss: 0.3871 - accuracy: 0.8291 - val_loss: 0.4768 - val_accuracy: 0.7718\n",
      "Epoch 5/10\n",
      "782/782 [==============================] - 8s 11ms/step - loss: 0.3551 - accuracy: 0.8470 - val_loss: 0.4771 - val_accuracy: 0.7718\n",
      "Epoch 6/10\n",
      "782/782 [==============================] - 8s 10ms/step - loss: 0.3313 - accuracy: 0.8603 - val_loss: 0.4962 - val_accuracy: 0.7683\n",
      "Epoch 7/10\n",
      "782/782 [==============================] - 8s 10ms/step - loss: 0.3116 - accuracy: 0.8730 - val_loss: 0.5133 - val_accuracy: 0.7659\n",
      "Epoch 8/10\n",
      "782/782 [==============================] - 8s 10ms/step - loss: 0.2954 - accuracy: 0.8786 - val_loss: 0.5303 - val_accuracy: 0.7640\n",
      "Epoch 9/10\n",
      "782/782 [==============================] - 8s 10ms/step - loss: 0.2811 - accuracy: 0.8880 - val_loss: 0.5494 - val_accuracy: 0.7618\n",
      "Epoch 10/10\n",
      "782/782 [==============================] - 8s 10ms/step - loss: 0.2691 - accuracy: 0.8939 - val_loss: 0.5665 - val_accuracy: 0.7588\n",
      "Epoch 1/10\n",
      "782/782 [==============================] - 8s 11ms/step - loss: 0.6566 - accuracy: 0.6081 - val_loss: 0.5735 - val_accuracy: 0.7126\n",
      "Epoch 2/10\n",
      "782/782 [==============================] - 8s 10ms/step - loss: 0.5130 - accuracy: 0.7516 - val_loss: 0.4970 - val_accuracy: 0.7582\n",
      "Epoch 3/10\n",
      "782/782 [==============================] - 8s 10ms/step - loss: 0.4320 - accuracy: 0.8041 - val_loss: 0.4832 - val_accuracy: 0.7680\n",
      "Epoch 4/10\n",
      "782/782 [==============================] - 8s 10ms/step - loss: 0.3883 - accuracy: 0.8302 - val_loss: 0.4819 - val_accuracy: 0.7685\n",
      "Epoch 5/10\n",
      "782/782 [==============================] - 8s 10ms/step - loss: 0.3579 - accuracy: 0.8447 - val_loss: 0.4806 - val_accuracy: 0.7717\n",
      "Epoch 6/10\n",
      "782/782 [==============================] - 8s 10ms/step - loss: 0.3336 - accuracy: 0.8600 - val_loss: 0.5065 - val_accuracy: 0.7670\n",
      "Epoch 7/10\n",
      "782/782 [==============================] - 8s 10ms/step - loss: 0.3137 - accuracy: 0.8693 - val_loss: 0.5007 - val_accuracy: 0.7678\n",
      "Epoch 8/10\n",
      "782/782 [==============================] - 8s 10ms/step - loss: 0.2970 - accuracy: 0.8790 - val_loss: 0.5374 - val_accuracy: 0.7627\n",
      "Epoch 9/10\n",
      "782/782 [==============================] - 8s 10ms/step - loss: 0.2827 - accuracy: 0.8852 - val_loss: 0.5669 - val_accuracy: 0.7606\n",
      "Epoch 10/10\n",
      "782/782 [==============================] - 8s 10ms/step - loss: 0.2704 - accuracy: 0.8921 - val_loss: 0.5557 - val_accuracy: 0.7604\n",
      "Epoch 1/10\n",
      "782/782 [==============================] - 8s 10ms/step - loss: 0.6861 - accuracy: 0.5737 - val_loss: 0.6121 - val_accuracy: 0.6931\n",
      "Epoch 2/10\n",
      "782/782 [==============================] - 8s 10ms/step - loss: 0.5072 - accuracy: 0.7522 - val_loss: 0.4697 - val_accuracy: 0.7738\n",
      "Epoch 3/10\n",
      "782/782 [==============================] - 8s 10ms/step - loss: 0.4114 - accuracy: 0.8122 - val_loss: 0.4421 - val_accuracy: 0.7894\n",
      "Epoch 4/10\n",
      "782/782 [==============================] - 8s 10ms/step - loss: 0.3661 - accuracy: 0.8378 - val_loss: 0.4463 - val_accuracy: 0.7895\n",
      "Epoch 5/10\n",
      "782/782 [==============================] - 8s 10ms/step - loss: 0.3362 - accuracy: 0.8540 - val_loss: 0.4589 - val_accuracy: 0.7864\n",
      "Epoch 6/10\n",
      "782/782 [==============================] - 9s 11ms/step - loss: 0.3143 - accuracy: 0.8673 - val_loss: 0.4751 - val_accuracy: 0.7870\n",
      "Epoch 7/10\n",
      "782/782 [==============================] - 8s 10ms/step - loss: 0.2962 - accuracy: 0.8756 - val_loss: 0.4836 - val_accuracy: 0.7850\n",
      "Epoch 8/10\n",
      "782/782 [==============================] - 8s 10ms/step - loss: 0.2804 - accuracy: 0.8844 - val_loss: 0.4965 - val_accuracy: 0.7815\n",
      "Epoch 9/10\n",
      "782/782 [==============================] - 8s 10ms/step - loss: 0.2672 - accuracy: 0.8932 - val_loss: 0.5101 - val_accuracy: 0.7774\n",
      "Epoch 10/10\n",
      "782/782 [==============================] - 8s 10ms/step - loss: 0.2561 - accuracy: 0.8984 - val_loss: 0.5461 - val_accuracy: 0.7712\n"
     ]
    }
   ],
   "source": [
    "rnn_history = rnn.fit(train_ds,\n",
    "                        batch_size = BATCH_SIZE,\n",
    "                        epochs = N_EPOCH,\n",
    "                        verbose = 1,\n",
    "                        validation_data = test_ds,\n",
    "                        shuffle=True)\n",
    "\n",
    "lstm_history = lstm.fit(train_ds,\n",
    "                        batch_size = BATCH_SIZE,\n",
    "                        epochs = N_EPOCH,\n",
    "                        verbose = 1,\n",
    "                        validation_data = test_ds,\n",
    "                        shuffle=True)\n",
    "\n",
    "gru_history = gru.fit(train_ds,\n",
    "                        batch_size = BATCH_SIZE,\n",
    "                        epochs = N_EPOCH,\n",
    "                        verbose = 1,\n",
    "                        validation_data = test_ds,\n",
    "                        shuffle=True)"
   ]
  },
  {
   "cell_type": "markdown",
   "metadata": {},
   "source": [
    "Visualize"
   ]
  },
  {
   "cell_type": "code",
   "execution_count": 16,
   "metadata": {},
   "outputs": [
    {
     "data": {
      "image/png": "[encoded data removed]",
      "text/plain": [
       "<Figure size 1152x576 with 6 Axes>"
      ]
     },
     "metadata": {
      "needs_background": "light"
     },
     "output_type": "display_data"
    }
   ],
   "source": [
    "fig, ax = plt.subplots(3, 2, figsize = (16, 8))\n",
    "\n",
    "ax[0, 0].plot([None]+rnn_history.history['loss'], c = 'b', label = 'train')\n",
    "ax[0, 0].plot([None]+rnn_history.history['val_loss'], c = 'r', label = 'test')\n",
    "ax[1, 0].plot([None]+lstm_history.history['loss'], c = 'b', label = 'train')\n",
    "ax[1, 0].plot([None]+lstm_history.history['val_loss'], c = 'r', label = 'test')\n",
    "ax[2, 0].plot([None]+gru_history.history['loss'], c = 'b', label = 'train')\n",
    "ax[2, 0].plot([None]+gru_history.history['val_loss'], c = 'r', label = 'test')\n",
    "\n",
    "ax[0, 1].plot([None]+rnn_history.history['accuracy'], c = 'b', label = 'train')\n",
    "ax[0, 1].plot([None]+rnn_history.history['val_accuracy'], c = 'r', label = 'test')\n",
    "ax[1, 1].plot([None]+lstm_history.history['accuracy'], c = 'b', label = 'train')\n",
    "ax[1, 1].plot([None]+lstm_history.history['val_accuracy'], c = 'r', label = 'test')\n",
    "ax[2, 1].plot([None]+gru_history.history['accuracy'], c = 'b', label = 'train')\n",
    "ax[2, 1].plot([None]+gru_history.history['val_accuracy'], c = 'r', label = 'test')\n",
    "\n",
    "ax[0, 0].set_title('RNN Loss')\n",
    "ax[1, 0].set_title('LSTM Loss')\n",
    "ax[2, 0].set_title('GRU Loss')\n",
    "ax[0, 1].set_title('RNN Accuracy')\n",
    "ax[1, 1].set_title('LSTM Accuracy')\n",
    "ax[2, 1].set_title('GRU Accuracy')\n",
    "\n",
    "ax[0, 0].set_xlabel('Epoch')\n",
    "ax[1, 0].set_xlabel('Epoch')\n",
    "ax[2, 0].set_xlabel('Epoch')\n",
    "ax[0, 1].set_xlabel('Epoch')\n",
    "ax[1, 1].set_xlabel('Epoch')\n",
    "ax[2, 1].set_xlabel('Epoch')\n",
    "\n",
    "\n",
    "ax[0, 0].set_xticks(range(1, N_EPOCH+1))\n",
    "ax[1, 0].set_xticks(range(1, N_EPOCH+1))\n",
    "ax[2, 0].set_xticks(range(1, N_EPOCH+1))\n",
    "ax[0, 1].set_xticks(range(1, N_EPOCH+1))\n",
    "ax[1, 1].set_xticks(range(1, N_EPOCH+1))\n",
    "ax[2, 1].set_xticks(range(1, N_EPOCH+1))\n",
    "\n",
    "ax[0, 0].legend(loc = 'best')\n",
    "ax[1, 0].legend(loc = 'best')\n",
    "ax[2, 0].legend(loc = 'best')\n",
    "ax[0, 1].legend(loc = 'best')\n",
    "ax[1, 1].legend(loc = 'best')\n",
    "ax[2, 1].legend(loc = 'best')\n",
    "\n",
    "plt.tight_layout()\n",
    "plt.show()"
   ]
  },
  {
   "cell_type": "markdown",
   "metadata": {},
   "source": [
    "Sample"
   ]
  },
  {
   "cell_type": "code",
   "execution_count": 11,
   "metadata": {
    "scrolled": true
   },
   "outputs": [
    {
     "data": {
      "text/html": [
       "<div>\n",
       "<style scoped>\n",
       "    .dataframe tbody tr th:only-of-type {\n",
       "        vertical-align: middle;\n",
       "    }\n",
       "\n",
       "    .dataframe tbody tr th {\n",
       "        vertical-align: top;\n",
       "    }\n",
       "\n",
       "    .dataframe thead th {\n",
       "        text-align: right;\n",
       "    }\n",
       "</style>\n",
       "<table border=\"1\" class=\"dataframe\">\n",
       "  <thead>\n",
       "    <tr style=\"text-align: right;\">\n",
       "      <th></th>\n",
       "      <th>Ground Truth</th>\n",
       "      <th>RNN Prediction</th>\n",
       "      <th>LSTM Prediction</th>\n",
       "      <th>Gru Prediction</th>\n",
       "    </tr>\n",
       "  </thead>\n",
       "  <tbody>\n",
       "    <tr>\n",
       "      <th>0</th>\n",
       "      <td>0</td>\n",
       "      <td>1</td>\n",
       "      <td>1</td>\n",
       "      <td>0</td>\n",
       "    </tr>\n",
       "    <tr>\n",
       "      <th>1</th>\n",
       "      <td>1</td>\n",
       "      <td>1</td>\n",
       "      <td>1</td>\n",
       "      <td>1</td>\n",
       "    </tr>\n",
       "    <tr>\n",
       "      <th>2</th>\n",
       "      <td>1</td>\n",
       "      <td>1</td>\n",
       "      <td>1</td>\n",
       "      <td>1</td>\n",
       "    </tr>\n",
       "    <tr>\n",
       "      <th>3</th>\n",
       "      <td>0</td>\n",
       "      <td>1</td>\n",
       "      <td>1</td>\n",
       "      <td>0</td>\n",
       "    </tr>\n",
       "    <tr>\n",
       "      <th>4</th>\n",
       "      <td>1</td>\n",
       "      <td>1</td>\n",
       "      <td>1</td>\n",
       "      <td>1</td>\n",
       "    </tr>\n",
       "  </tbody>\n",
       "</table>\n",
       "</div>"
      ],
      "text/plain": [
       "   Ground Truth  RNN Prediction  LSTM Prediction  Gru Prediction\n",
       "0             0               1                1               0\n",
       "1             1               1                1               1\n",
       "2             1               1                1               1\n",
       "3             0               1                1               0\n",
       "4             1               1                1               1"
      ]
     },
     "execution_count": 11,
     "metadata": {},
     "output_type": "execute_result"
    }
   ],
   "source": [
    "sample_data, sample_label = next(iter(test_ds))\n",
    "rnn_pred = rnn(sample_data).numpy()\n",
    "lstm_pred = lstm(sample_data).numpy()\n",
    "gru_pred = gru(sample_data).numpy()\n",
    "rnn_pred = np.argmax(rnn_pred, axis = 1)\n",
    "lstm_pred = np.argmax(lstm_pred, axis = 1)\n",
    "gru_pred = np.argmax(gru_pred, axis = 1)\n",
    "\n",
    "df = {'Ground Truth' : sample_label,\n",
    "        'RNN Prediction' : rnn_pred,\n",
    "        'LSTM Prediction' : lstm_pred,\n",
    "        'Gru Prediction' : gru_pred}\n",
    "\n",
    "df = pd.DataFrame(df)\n",
    "df.head()"
   ]
  },
  {
   "cell_type": "code",
   "execution_count": null,
   "metadata": {},
   "outputs": [],
   "source": []
  }
 ],
 "metadata": {
  "kernelspec": {
   "display_name": "Python 3",
   "language": "python",
   "name": "python3"
  },
  "language_info": {
   "codemirror_mode": {
    "name": "ipython",
    "version": 3
   },
   "file_extension": ".py",
   "mimetype": "text/x-python",
   "name": "python",
   "nbconvert_exporter": "python",
   "pygments_lexer": "ipython3",
   "version": "3.8.3"
  }
 },
 "nbformat": 4,
 "nbformat_minor": 2
}
